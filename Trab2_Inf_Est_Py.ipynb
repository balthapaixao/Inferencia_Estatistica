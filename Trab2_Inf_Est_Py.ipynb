{
 "cells": [
  {
   "cell_type": "raw",
   "metadata": {},
   "source": [
    "Balthazar Paixão\n",
    "1815638BCC"
   ]
  },
  {
   "cell_type": "code",
   "execution_count": 1,
   "metadata": {},
   "outputs": [],
   "source": [
    "import pandas as pd\n",
    "import numpy as np\n",
    "import matplotlib.pyplot as plt\n",
    "import seaborn as sns\n",
    "from scipy.stats import norm\n",
    "from scipy.stats import expon\n",
    "from scipy.stats import t\n",
    "from scipy.stats import zscore\n",
    "import random"
   ]
  },
  {
   "cell_type": "markdown",
   "metadata": {},
   "source": [
    "# Teorema do Limite Central"
   ]
  },
  {
   "cell_type": "code",
   "execution_count": 2,
   "metadata": {},
   "outputs": [],
   "source": [
    "lambda_exp = 0.2\n",
    "r = expon.rvs(size=40, scale = 1/lambda_exp)"
   ]
  },
  {
   "cell_type": "code",
   "execution_count": 3,
   "metadata": {},
   "outputs": [],
   "source": [
    "exps = [np.mean(expon.rvs(size=40, scale=1/lambda_exp)) for i in range(1000)]"
   ]
  },
  {
   "cell_type": "code",
   "execution_count": 4,
   "metadata": {},
   "outputs": [
    {
     "data": {
      "image/png": "[encoded data removed]",
      "text/plain": [
       "<Figure size 576x432 with 1 Axes>"
      ]
     },
     "metadata": {},
     "output_type": "display_data"
    }
   ],
   "source": [
    "sns.set()\n",
    "plt.figure(figsize = (8, 6))\n",
    "#plt.hist(exps, bins=15)\n",
    "plt.axvline(np.mean(exps), color='r')\n",
    "sns.distplot(exps)\n",
    "plt.show()"
   ]
  },
  {
   "cell_type": "code",
   "execution_count": 5,
   "metadata": {},
   "outputs": [
    {
     "name": "stdout",
     "output_type": "stream",
     "text": [
      "Média amostral:  4.987\n",
      "Média teŕica 5.0\n"
     ]
    }
   ],
   "source": [
    "print(\"Média amostral: \", round(np.mean(exps), 3))\n",
    "print(\"Média teŕica\", 1/lambda_exp)"
   ]
  },
  {
   "cell_type": "markdown",
   "metadata": {},
   "source": [
    "## Análise\n",
    "\n",
    "#### Temos que a média teórica pode ser representada como 1/λ que, nesse caso proposto, resulta em 5. Ao observar a distribuição da média amostral, podemos perceber que ela se assemelha bastante com a distribuição normal. Também temos nossa média amostral (marcada no gráfico em vermelho) tende à média teórica, nos possibilitando comprovar que a media amostral deve tender a se aproximar cada vez mais da média teórica conforme mais simulações tivermos."
   ]
  },
  {
   "cell_type": "markdown",
   "metadata": {},
   "source": [
    "# Média amostral e variância amostral"
   ]
  },
  {
   "cell_type": "markdown",
   "metadata": {},
   "source": [
    "## Análise de média amostral (X)"
   ]
  },
  {
   "cell_type": "code",
   "execution_count": 6,
   "metadata": {},
   "outputs": [],
   "source": [
    "mu = 2\n",
    "sigma = 2"
   ]
  },
  {
   "cell_type": "code",
   "execution_count": 7,
   "metadata": {},
   "outputs": [],
   "source": [
    "n = 10\n",
    "asim = 10\n",
    "xbar = np.full(asim, np.nan)\n",
    "vbar = np.full(asim, np.nan)\n",
    "\n",
    "for i in range(asim):\n",
    "    #print(i)\n",
    "    random.seed(i)\n",
    "    x = norm.rvs(size=n, loc=mu, scale=sigma)\n",
    "    xbar[i] = np.mean(x)\n",
    "    vbar[i] = np.var(x)"
   ]
  },
  {
   "cell_type": "code",
   "execution_count": 8,
   "metadata": {},
   "outputs": [
    {
     "name": "stdout",
     "output_type": "stream",
     "text": [
      "Média amostral:  2.011\n"
     ]
    }
   ],
   "source": [
    "print(\"Média amostral: \", round(np.mean(xbar), 3))"
   ]
  },
  {
   "cell_type": "markdown",
   "metadata": {},
   "source": [
    "### Para asim=10\n",
    "\n",
    "#### Sabemos, por inserção de parâmetro na função, qual o valor da média populacional. É esperado pelo Teorema do Limite Central que, ao rodarmos as simulaçoes e computarmos a média amostral, que o resultado se aproxime da média populacional. Quando calculamos a média amostral verificamos que ela realmente tende ao valor de μ=2."
   ]
  },
  {
   "cell_type": "markdown",
   "metadata": {},
   "source": [
    "## Análise de variância amostral (S²)"
   ]
  },
  {
   "cell_type": "code",
   "execution_count": 9,
   "metadata": {},
   "outputs": [
    {
     "name": "stdout",
     "output_type": "stream",
     "text": [
      "Variância amostral:  3.693\n"
     ]
    }
   ],
   "source": [
    "print(\"Variância amostral: \", round(np.mean(vbar), 3))"
   ]
  },
  {
   "cell_type": "markdown",
   "metadata": {},
   "source": [
    "### Para asim=10\n",
    "\n",
    "#### Sabemos, por inserção de parâmetro na função, qual o valor do desvio padrão populacional, logo sabemos a variância populacional. Podemos perceber que ao calcularmos a média amostral da variância que o resultado se aproxima do variância populacional σ² = 4."
   ]
  },
  {
   "cell_type": "markdown",
   "metadata": {},
   "source": [
    "## Mudando o numero de amostras"
   ]
  },
  {
   "cell_type": "markdown",
   "metadata": {},
   "source": [
    "### Para asim=100"
   ]
  },
  {
   "cell_type": "code",
   "execution_count": 10,
   "metadata": {},
   "outputs": [],
   "source": [
    "asim = 100\n",
    "xbar_100 = np.full(asim, np.nan)\n",
    "vbar_100 = np.full(asim, np.nan)\n",
    "\n",
    "for i in range(asim):\n",
    "    #print(i)\n",
    "    random.seed(i)\n",
    "    x = norm.rvs(size=n, loc=mu, scale=sigma)\n",
    "    xbar_100[i] = np.mean(x)\n",
    "    vbar_100[i] = np.var(x)"
   ]
  },
  {
   "cell_type": "code",
   "execution_count": 11,
   "metadata": {},
   "outputs": [
    {
     "name": "stdout",
     "output_type": "stream",
     "text": [
      "Média amostral:  1.958\n",
      "Variancia Amostral 3.627\n"
     ]
    }
   ],
   "source": [
    "print(\"Média amostral: \", round(np.mean(xbar_100), 3))\n",
    "print(\"Variancia Amostral\", round(np.mean(vbar_100), 3))"
   ]
  },
  {
   "cell_type": "markdown",
   "metadata": {},
   "source": [
    "### para asim=1000"
   ]
  },
  {
   "cell_type": "code",
   "execution_count": 12,
   "metadata": {},
   "outputs": [],
   "source": [
    "asim = 1000\n",
    "xbar_1000 = np.full(asim, np.nan)\n",
    "vbar_1000 = np.full(asim, np.nan)\n",
    "\n",
    "for i in range(asim):\n",
    "    random.seed(i)\n",
    "    x = norm.rvs(size=n, loc=mu, scale=sigma)\n",
    "    xbar_1000[i] = np.mean(x)\n",
    "    vbar_1000[i] = np.var(x)"
   ]
  },
  {
   "cell_type": "code",
   "execution_count": 23,
   "metadata": {},
   "outputs": [
    {
     "name": "stdout",
     "output_type": "stream",
     "text": [
      "Média amostral:  2.062\n",
      "Variancia Amostral 3.747\n"
     ]
    }
   ],
   "source": [
    "print(\"Média amostral: \", round(np.mean(xbar_1000), 3))\n",
    "print(\"Variancia Amostral\", round(np.mean(vbar_1000), 3))"
   ]
  },
  {
   "cell_type": "markdown",
   "metadata": {},
   "source": [
    "### Conclusâo\n",
    "\n",
    "#### No final de toda a analise, foi possível perceber que quanto mais simulações tivermos mais nossas estimatinvas tendem a se aproximar dos parâmetros, de tal forma que quando tendemos a infinitas simulações, esses valores devem se igualar."
   ]
  },
  {
   "cell_type": "markdown",
   "metadata": {},
   "source": [
    "## R para Python\n",
    "\n",
    "#### O programa já foi desenvolvido em python"
   ]
  },
  {
   "cell_type": "markdown",
   "metadata": {},
   "source": [
    "## Variância amostral x Variância da média amostral"
   ]
  },
  {
   "cell_type": "code",
   "execution_count": 27,
   "metadata": {},
   "outputs": [
    {
     "name": "stdout",
     "output_type": "stream",
     "text": [
      "VAR XBAR_10: 0.418\n",
      "VAR XBAR_100: 0.387\n",
      "VAR XBAR_1000: 0.388\n",
      "\n",
      "Variância da população dividida pelo tamanho das amostras: 0.4\n"
     ]
    }
   ],
   "source": [
    "print(\"VAR XBAR_10:\", round(np.var(xbar), 3))\n",
    "print(\"VAR XBAR_100:\", round(np.var(xbar_100), 3))\n",
    "print(\"VAR XBAR_1000:\", round(np.var(xbar_1000), 3))\n",
    "\n",
    "print(\"\\nVariância da população dividida pelo tamanho das amostras:\", round(4/10, 3))"
   ]
  },
  {
   "cell_type": "markdown",
   "metadata": {},
   "source": [
    "### Análise\n",
    "\n",
    "#### Podemos verificar que quando calculamos os valores da variância da média amostral para diferentes para diferentes tamanhos de simulações, quanto mais simulações temos, mais o resultado se aproxima do valor estabelecido pelo Teorema do Limite Central (\"A variância da média amostral é próxima à variância da população dividida pelo tamanho das amostras.\")."
   ]
  },
  {
   "cell_type": "markdown",
   "metadata": {},
   "source": [
    "## Compare as médias dessas amostras e suas variâncias."
   ]
  },
  {
   "cell_type": "code",
   "execution_count": 30,
   "metadata": {},
   "outputs": [
    {
     "name": "stdout",
     "output_type": "stream",
     "text": [
      "MEAN XBAR: 2.008\n",
      "MEAN XBAR2: 1.994\n",
      "MEAN XBAR3: 2.003\n",
      "\n",
      "VAR XBAR: 0.401\n",
      "VAR XBAR2: 0.04\n",
      "VAR XBAR3: 0.004\n",
      "\n",
      "MEAN XVAR: 3.547\n",
      "MEAN XVAR2: 3.947\n",
      "MEAN XVAR3: 3.989\n"
     ]
    }
   ],
   "source": [
    "asim = 1000\n",
    "xbar = np.full(asim, np.nan)\n",
    "xbar2 = np.full(asim, np.nan)\n",
    "xbar3 = np.full(asim, np.nan)\n",
    "\n",
    "xvar = np.full(asim, np.nan)\n",
    "xvar2 = np.full(asim, np.nan)\n",
    "xvar3 = np.full(asim, np.nan)\n",
    "\n",
    "for i in range(asim):\n",
    "    #print(i)\n",
    "    random.seed(i)\n",
    "    x = norm.rvs(size=n, loc=mu, scale=sigma)\n",
    "    x2 = norm.rvs(size=n*10, loc=mu, scale=sigma)\n",
    "    x3 = norm.rvs(size=n*100, loc=mu, scale=sigma)\n",
    "    xbar[i] = np.mean(x)\n",
    "    xbar2[i] = np.mean(x2)\n",
    "    xbar3[i] = np.mean(x3)\n",
    "    xvar[i] = np.var(x)\n",
    "    xvar2[i] = np.var(x2)\n",
    "    xvar3[i] = np.var(x3)\n",
    "\n",
    "print(\"MEAN XBAR:\", round(np.mean(xbar), 3))\n",
    "print(\"MEAN XBAR2:\", round(np.mean(xbar2), 3))\n",
    "print(\"MEAN XBAR3:\", round(np.mean(xbar3), 3))\n",
    "\n",
    "print(\"\\nVAR XBAR:\", round(np.var(xbar), 3))\n",
    "print(\"VAR XBAR2:\", round(np.var(xbar2), 3))\n",
    "print(\"VAR XBAR3:\", round(np.var(xbar3), 3))\n",
    "\n",
    "print(\"\\nMEAN XVAR:\", round(np.mean(xvar), 3))\n",
    "print(\"MEAN XVAR2:\", round(np.mean(xvar2), 3))\n",
    "print(\"MEAN XVAR3:\", round(np.mean(xvar3), 3))"
   ]
  },
  {
   "cell_type": "markdown",
   "metadata": {},
   "source": [
    "### Análise\n",
    "\n",
    "#### Ao pegarmos os resultados em geral para analisar podemos afirmar que as 3 propriedades do Teoprema do Limite Central se aplicam e se confirmam. \n",
    "    - 1. A distribuição amostral da média amostral  X-barra  (i.e., a distribuição das médias computadas para as amostras da população) aproxima-se cada vez mais de uma distribuição normal\n",
    "    - 2. Essa distribuição amostral (aproximadamente normal) terá uma média próxima à media da população.\n",
    "    - 3. A variância da média amostral é próxima à variância da população dividida pelo tamanho das amostras.\n",
    "#### A primeira propriedade pode ser comprovada pelo gráfico abaixo, onde todas as 3 distribuições se assemelham à diferentes distribuições normais centralizado com média = 2.\n",
    "\n",
    "#### Podemos verificar a prova da segunda propriedade quando verificamos o primeiro bloco de *prints* onde são impressos em tela a média amostral. Ali verificamos que quanto mais simulações temos, mais o resultado se apróxima da média populacional.\n",
    "\n",
    "#### No segundo bloco de *prints* temos os valores das variâncias das médias amostrais. Sabendo que o temos a mesma variância populacional para todos as simulações e que somente variamos o numero das amostras, era esperado que tenhamos diferentes valores de variância de media amostral diferindo em uma ordem de grandeza cada, pois o valor pode ser aproximado por: σ2/n. Dessa forma, concluimos que os valores se aproximam de seus respectivos valores esperados, e que tambem quanto maior o numero de amostras, mais próximo o resultado deve ser."
   ]
  },
  {
   "cell_type": "code",
   "execution_count": 33,
   "metadata": {},
   "outputs": [
    {
     "data": {
      "image/png": "[encoded data removed]",
      "text/plain": [
       "<Figure size 864x576 with 1 Axes>"
      ]
     },
     "metadata": {},
     "output_type": "display_data"
    }
   ],
   "source": [
    "sns.set()\n",
    "plt.figure(figsize = (12, 8))\n",
    "sns.distplot(xbar)\n",
    "sns.distplot(xbar2)\n",
    "sns.distplot(xbar3)\n",
    "plt.show()"
   ]
  },
  {
   "cell_type": "markdown",
   "metadata": {},
   "source": [
    "## R para Python\n",
    "\n",
    "#### O programa já foi desenvolvido em python"
   ]
  },
  {
   "cell_type": "markdown",
   "metadata": {},
   "source": [
    "# INTERVALO DE CONFIANÇA PARA µ"
   ]
  },
  {
   "cell_type": "code",
   "execution_count": 34,
   "metadata": {},
   "outputs": [
    {
     "data": {
      "text/html": [
       "<div>\n",
       "<style scoped>\n",
       "    .dataframe tbody tr th:only-of-type {\n",
       "        vertical-align: middle;\n",
       "    }\n",
       "\n",
       "    .dataframe tbody tr th {\n",
       "        vertical-align: top;\n",
       "    }\n",
       "\n",
       "    .dataframe thead th {\n",
       "        text-align: right;\n",
       "    }\n",
       "</style>\n",
       "<table border=\"1\" class=\"dataframe\">\n",
       "  <thead>\n",
       "    <tr style=\"text-align: right;\">\n",
       "      <th></th>\n",
       "      <th>Unnamed: 0</th>\n",
       "      <th>Sex</th>\n",
       "      <th>Wr.Hnd</th>\n",
       "      <th>NW.Hnd</th>\n",
       "      <th>W.Hnd</th>\n",
       "      <th>Fold</th>\n",
       "      <th>Pulse</th>\n",
       "      <th>Clap</th>\n",
       "      <th>Exer</th>\n",
       "      <th>Smoke</th>\n",
       "      <th>Height</th>\n",
       "      <th>M.I</th>\n",
       "      <th>Age</th>\n",
       "    </tr>\n",
       "  </thead>\n",
       "  <tbody>\n",
       "    <tr>\n",
       "      <th>0</th>\n",
       "      <td>1</td>\n",
       "      <td>Female</td>\n",
       "      <td>18.5</td>\n",
       "      <td>18.0</td>\n",
       "      <td>Right</td>\n",
       "      <td>R on L</td>\n",
       "      <td>92.0</td>\n",
       "      <td>Left</td>\n",
       "      <td>Some</td>\n",
       "      <td>Never</td>\n",
       "      <td>173.0</td>\n",
       "      <td>Metric</td>\n",
       "      <td>18.250</td>\n",
       "    </tr>\n",
       "    <tr>\n",
       "      <th>1</th>\n",
       "      <td>2</td>\n",
       "      <td>Male</td>\n",
       "      <td>19.5</td>\n",
       "      <td>20.5</td>\n",
       "      <td>Left</td>\n",
       "      <td>R on L</td>\n",
       "      <td>104.0</td>\n",
       "      <td>Left</td>\n",
       "      <td>None</td>\n",
       "      <td>Regul</td>\n",
       "      <td>177.8</td>\n",
       "      <td>Imperial</td>\n",
       "      <td>17.583</td>\n",
       "    </tr>\n",
       "    <tr>\n",
       "      <th>2</th>\n",
       "      <td>3</td>\n",
       "      <td>Male</td>\n",
       "      <td>18.0</td>\n",
       "      <td>13.3</td>\n",
       "      <td>Right</td>\n",
       "      <td>L on R</td>\n",
       "      <td>87.0</td>\n",
       "      <td>Neither</td>\n",
       "      <td>None</td>\n",
       "      <td>Occas</td>\n",
       "      <td>NaN</td>\n",
       "      <td>NaN</td>\n",
       "      <td>16.917</td>\n",
       "    </tr>\n",
       "    <tr>\n",
       "      <th>3</th>\n",
       "      <td>4</td>\n",
       "      <td>Male</td>\n",
       "      <td>18.8</td>\n",
       "      <td>18.9</td>\n",
       "      <td>Right</td>\n",
       "      <td>R on L</td>\n",
       "      <td>NaN</td>\n",
       "      <td>Neither</td>\n",
       "      <td>None</td>\n",
       "      <td>Never</td>\n",
       "      <td>160.0</td>\n",
       "      <td>Metric</td>\n",
       "      <td>20.333</td>\n",
       "    </tr>\n",
       "    <tr>\n",
       "      <th>4</th>\n",
       "      <td>5</td>\n",
       "      <td>Male</td>\n",
       "      <td>20.0</td>\n",
       "      <td>20.0</td>\n",
       "      <td>Right</td>\n",
       "      <td>Neither</td>\n",
       "      <td>35.0</td>\n",
       "      <td>Right</td>\n",
       "      <td>Some</td>\n",
       "      <td>Never</td>\n",
       "      <td>165.0</td>\n",
       "      <td>Metric</td>\n",
       "      <td>23.667</td>\n",
       "    </tr>\n",
       "  </tbody>\n",
       "</table>\n",
       "</div>"
      ],
      "text/plain": [
       "   Unnamed: 0     Sex  Wr.Hnd  NW.Hnd  W.Hnd     Fold  Pulse     Clap  Exer  \\\n",
       "0           1  Female    18.5    18.0  Right   R on L   92.0     Left  Some   \n",
       "1           2    Male    19.5    20.5   Left   R on L  104.0     Left  None   \n",
       "2           3    Male    18.0    13.3  Right   L on R   87.0  Neither  None   \n",
       "3           4    Male    18.8    18.9  Right   R on L    NaN  Neither  None   \n",
       "4           5    Male    20.0    20.0  Right  Neither   35.0    Right  Some   \n",
       "\n",
       "   Smoke  Height       M.I     Age  \n",
       "0  Never   173.0    Metric  18.250  \n",
       "1  Regul   177.8  Imperial  17.583  \n",
       "2  Occas     NaN       NaN  16.917  \n",
       "3  Never   160.0    Metric  20.333  \n",
       "4  Never   165.0    Metric  23.667  "
      ]
     },
     "execution_count": 34,
     "metadata": {},
     "output_type": "execute_result"
    }
   ],
   "source": [
    "df = pd.read_csv(\"survey.csv\")\n",
    "df.head()"
   ]
  },
  {
   "cell_type": "code",
   "execution_count": 35,
   "metadata": {},
   "outputs": [],
   "source": [
    "df.dropna(subset=['Height'], inplace=True)\n",
    "alturas = df.Height"
   ]
  },
  {
   "cell_type": "code",
   "execution_count": 36,
   "metadata": {},
   "outputs": [
    {
     "name": "stdout",
     "output_type": "stream",
     "text": [
      "media 172.381\n",
      "desvio padrao 9.824\n"
     ]
    }
   ],
   "source": [
    "x_barra_alturas = np.mean(alturas)\n",
    "s_alturas = np.std(alturas)\n",
    "\n",
    "print('media', round(x_barra_alturas, 3))\n",
    "print('desvio padrao', round(s_alturas, 3))"
   ]
  },
  {
   "cell_type": "code",
   "execution_count": 38,
   "metadata": {},
   "outputs": [
    {
     "data": {
      "text/plain": [
       "209"
      ]
     },
     "execution_count": 38,
     "metadata": {},
     "output_type": "execute_result"
    }
   ],
   "source": [
    "freedom_degrees = len(alturas)\n",
    "freedom_degrees"
   ]
  },
  {
   "cell_type": "markdown",
   "metadata": {},
   "source": [
    "## Intervalo de confiança usando t-student\n",
    "\n",
    "$$\n",
    "\\overline{x} \\pm t_{n-1, \\alpha/2} \\times \\frac{s}{\\sqrt{n}}\n",
    "$$"
   ]
  },
  {
   "cell_type": "code",
   "execution_count": 46,
   "metadata": {},
   "outputs": [
    {
     "data": {
      "text/plain": [
       "1.6521770093858237"
      ]
     },
     "execution_count": 46,
     "metadata": {},
     "output_type": "execute_result"
    }
   ],
   "source": [
    "percentil = .95\n",
    "t_value = t.ppf(percentil, freedom_degrees)\n",
    "t_value"
   ]
  },
  {
   "cell_type": "code",
   "execution_count": 53,
   "metadata": {},
   "outputs": [
    {
     "data": {
      "text/plain": [
       "171.258"
      ]
     },
     "execution_count": 53,
     "metadata": {},
     "output_type": "execute_result"
    }
   ],
   "source": [
    "round(x_barra_alturas - (t_value* (s_alturas/(freedom_degrees**(1/2)))), 3)"
   ]
  },
  {
   "cell_type": "code",
   "execution_count": 54,
   "metadata": {},
   "outputs": [
    {
     "data": {
      "text/plain": [
       "173.504"
      ]
     },
     "execution_count": 54,
     "metadata": {},
     "output_type": "execute_result"
    }
   ],
   "source": [
    "round(x_barra_alturas + (t_value* (s_alturas/(freedom_degrees**(1/2)))), 3)"
   ]
  },
  {
   "cell_type": "markdown",
   "metadata": {},
   "source": [
    "### Análise\n",
    "\n",
    "#### Podemos verificar que o intervalo de confiança de 95% está entre aproximadamente 171.258 e 173.504"
   ]
  },
  {
   "cell_type": "markdown",
   "metadata": {},
   "source": [
    "## Intervalo de confiança usando z-score\n",
    "\n",
    "$$\n",
    "\\overline{x} \\pm t_{n-1, \\alpha/2} \\times \\frac{s}{\\sqrt{n}}\n",
    "$$"
   ]
  },
  {
   "cell_type": "code",
   "execution_count": 65,
   "metadata": {},
   "outputs": [
    {
     "data": {
      "text/plain": [
       "-1.6448536269514722"
      ]
     },
     "execution_count": 65,
     "metadata": {},
     "output_type": "execute_result"
    }
   ],
   "source": [
    "alpha = 1-.95\n",
    "z_value = norm.ppf(alpha)\n",
    "z_value"
   ]
  },
  {
   "cell_type": "code",
   "execution_count": 55,
   "metadata": {},
   "outputs": [
    {
     "data": {
      "text/plain": [
       "173.499"
      ]
     },
     "execution_count": 55,
     "metadata": {},
     "output_type": "execute_result"
    }
   ],
   "source": [
    "round(x_barra_alturas - (z_value* (s_alturas/(freedom_degrees**(1/2)))), 3)"
   ]
  },
  {
   "cell_type": "code",
   "execution_count": 56,
   "metadata": {},
   "outputs": [
    {
     "data": {
      "text/plain": [
       "171.263"
      ]
     },
     "execution_count": 56,
     "metadata": {},
     "output_type": "execute_result"
    }
   ],
   "source": [
    "round(x_barra_alturas + (z_value* (s_alturas/(freedom_degrees**(1/2)))), 3)"
   ]
  },
  {
   "cell_type": "markdown",
   "metadata": {},
   "source": [
    "### Análise\n",
    "\n",
    "#### Podemos verificar que o intervalo de confiança de 95% está entre aproximadamente 171.263 e 173.499"
   ]
  },
  {
   "cell_type": "markdown",
   "metadata": {},
   "source": [
    "##  Análise geral\n",
    "\n",
    "#### É possível concluir que os dois intervalos que foram calculados de forma diferentes tiveram resultados bem próximos entre si. O valor calculado por t-student é mais indicado para amostras com n menor ou igual a 30, enquanto que para esse caso, de 209 amostras, o intervalo por z-score é mais indicado. "
   ]
  },
  {
   "cell_type": "markdown",
   "metadata": {},
   "source": [
    "# Intervalo de confiança para *p*\n",
    "\n",
    "$$\n",
    "\\hat{p} \\pm z_{\\alpha/2}\\sqrt{\\frac{\\hat{p}(1-\\hat{p})}{n}}\n",
    "$$"
   ]
  },
  {
   "cell_type": "code",
   "execution_count": 59,
   "metadata": {},
   "outputs": [
    {
     "data": {
      "text/plain": [
       "Right    192\n",
       "Left      16\n",
       "Name: W.Hnd, dtype: int64"
      ]
     },
     "execution_count": 59,
     "metadata": {},
     "output_type": "execute_result"
    }
   ],
   "source": [
    "df['W.Hnd'].value_counts()"
   ]
  },
  {
   "cell_type": "code",
   "execution_count": 81,
   "metadata": {},
   "outputs": [
    {
     "name": "stdout",
     "output_type": "stream",
     "text": [
      "95 percent CI: (0.04,0.11)\n"
     ]
    }
   ],
   "source": [
    "alfa = 1 - .95\n",
    "\n",
    "critical_value = np.absolute(norm.ppf(alfa/2))\n",
    "\n",
    "p_estimado = 16/208\n",
    "n = 208\n",
    "errorMargin = critical_value * np.sqrt((p_estimado*(1-p_estimado))/n)\n",
    "lowerBound = p_estimado - errorMargin\n",
    "upperBound = p_estimado + errorMargin\n",
    "print(\"95 percent CI: (%.2f,%.2f)\" % (lowerBound, upperBound))"
   ]
  },
  {
   "cell_type": "markdown",
   "metadata": {},
   "source": [
    "## Análise\n",
    "\n",
    "#### Com esse resultado podemos concluir que em 95% dos casos os dados se encontrem dentro do intervalo de 0.04 até 0.11."
   ]
  }
 ],
 "metadata": {
  "kernelspec": {
   "display_name": "Python 3",
   "language": "python",
   "name": "python3"
  },
  "language_info": {
   "codemirror_mode": {
    "name": "ipython",
    "version": 3
   },
   "file_extension": ".py",
   "mimetype": "text/x-python",
   "name": "python",
   "nbconvert_exporter": "python",
   "pygments_lexer": "ipython3",
   "version": "3.8.5"
  },
  "toc-autonumbering": true
 },
 "nbformat": 4,
 "nbformat_minor": 4
}
